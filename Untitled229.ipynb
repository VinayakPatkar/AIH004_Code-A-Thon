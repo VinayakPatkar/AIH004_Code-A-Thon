{
 "cells": [
  {
   "cell_type": "code",
   "execution_count": 8,
   "id": "f6913557",
   "metadata": {},
   "outputs": [],
   "source": [
    "import keras \n",
    "import tensorflow\n",
    "from tensorflow.keras import layers\n",
    "from tensorflow.keras import models\n",
    "from tensorflow.keras.preprocessing.image import ImageDataGenerator\n",
    "from tensorflow.keras import optimizers\n",
    "import os"
   ]
  },
  {
   "cell_type": "code",
   "execution_count": 6,
   "id": "0e764e94",
   "metadata": {},
   "outputs": [],
   "source": [
    "path = r'C:\\Users\\Dell\\Downloads\\archive (30)'\n",
    "yes_paths = r'C:\\Users\\Dell\\Downloads\\archive (30)\\yes'\n",
    "no_paths = r'C:\\Users\\Dell\\Downloads\\archive (30)\\no'"
   ]
  },
  {
   "cell_type": "code",
   "execution_count": 13,
   "id": "a9b96574",
   "metadata": {},
   "outputs": [],
   "source": [
    "directories = [yes_paths,no_paths]\n",
    "image_paths = []\n",
    "image_labels = []\n",
    "for i in directories:\n",
    "    for j in os.listdir(i):\n",
    "        image_paths.append(i + '\\\\' + j)\n",
    "        if(i == directories[0]):\n",
    "            image_labels.append('yes')\n",
    "        else:\n",
    "            image_labels.append('no')"
   ]
  },
  {
   "cell_type": "code",
   "execution_count": 16,
   "id": "f4f8b4f5",
   "metadata": {},
   "outputs": [],
   "source": [
    "JPG_Series = pd.Series(image_paths,name = \"JPGPath\").astype(str)\n",
    "JPG_Category = pd.Series(image_labels,name = \"JPGLabels\")"
   ]
  },
  {
   "cell_type": "code",
   "execution_count": 17,
   "id": "82a73fbc",
   "metadata": {},
   "outputs": [],
   "source": [
    "Main_Data = pd.concat([JPG_Series,JPG_Category],axis=1)"
   ]
  },
  {
   "cell_type": "code",
   "execution_count": 18,
   "id": "16183753",
   "metadata": {},
   "outputs": [],
   "source": [
    "Generator_Basic = ImageDataGenerator(rescale=1./255,\n",
    "                                     validation_split=0.1)"
   ]
  },
  {
   "cell_type": "code",
   "execution_count": 19,
   "id": "fc27dd22",
   "metadata": {},
   "outputs": [
    {
     "name": "stdout",
     "output_type": "stream",
     "text": [
      "Found 2700 validated image filenames belonging to 2 classes.\n"
     ]
    }
   ],
   "source": [
    "Train_Set = Generator_Basic.flow_from_dataframe(dataframe=Main_Data,\n",
    "                                               x_col=\"JPGPath\",\n",
    "                                               y_col=\"JPGLabels\",\n",
    "                                               color_mode=\"grayscale\",\n",
    "                                               class_mode=\"categorical\",\n",
    "                                               subset=\"training\",\n",
    "                                               batch_size=20,\n",
    "                                               target_size=(200,200))"
   ]
  },
  {
   "cell_type": "code",
   "execution_count": 20,
   "id": "5ffd06e4",
   "metadata": {},
   "outputs": [],
   "source": [
    "Model = models.Sequential()\n",
    "Model.add(layers.Conv2D(32,(3,3),activation='relu',input_shape=(200,200,1)))\n",
    "Model.add(layers.MaxPool2D(2,2))\n",
    "Model.add(layers.BatchNormalization())\n",
    "Model.add(layers.Dropout(0.2))\n",
    "Model.add(layers.Conv2D(64,(3,3),activation='relu'))\n",
    "Model.add(layers.MaxPool2D(2,2))\n",
    "Model.add(layers.BatchNormalization())\n",
    "Model.add(layers.Dropout(0.2))\n",
    "Model.add(layers.Conv2D(128,(3,3),activation='relu'))\n",
    "Model.add(layers.MaxPool2D(2,2))\n",
    "Model.add(layers.BatchNormalization())\n",
    "Model.add(layers.Dropout(0.2))\n",
    "Model.add(layers.Conv2D(256,(3,3),activation='relu'))\n",
    "Model.add(layers.MaxPool2D(2,2))\n",
    "Model.add(layers.BatchNormalization())\n",
    "Model.add(layers.Dropout(0.2))\n",
    "Model.add(layers.Flatten())\n",
    "Model.add(layers.Dense(64,activation='relu'))\n",
    "Model.add(layers.Dense(2,activation='softmax'))"
   ]
  },
  {
   "cell_type": "code",
   "execution_count": 21,
   "id": "a20384eb",
   "metadata": {},
   "outputs": [
    {
     "name": "stderr",
     "output_type": "stream",
     "text": [
      "c:\\users\\dell\\appdata\\local\\programs\\python\\python38\\lib\\site-packages\\keras\\optimizer_v2\\rmsprop.py:130: UserWarning: The `lr` argument is deprecated, use `learning_rate` instead.\n",
      "  super(RMSprop, self).__init__(name, **kwargs)\n"
     ]
    }
   ],
   "source": [
    "Model.compile(optimizer=optimizers.RMSprop(lr=0.001),loss=\"categorical_crossentropy\",metrics=[\"accuracy\"])"
   ]
  },
  {
   "cell_type": "code",
   "execution_count": 22,
   "id": "c53bf277",
   "metadata": {},
   "outputs": [
    {
     "name": "stdout",
     "output_type": "stream",
     "text": [
      "Epoch 1/10\n",
      "135/135 [==============================] - ETA: 0s - loss: 1.0868 - accuracy: 0.678 - 1756s 13s/step - loss: 1.0868 - accuracy: 0.6785\n",
      "Epoch 2/10\n",
      "135/135 [==============================] - 1872s 14s/step - loss: 0.4602 - accuracy: 0.7826\n",
      "Epoch 3/10\n",
      "135/135 [==============================] - 2643s 19s/step - loss: 0.3243 - accuracy: 0.8574\n",
      "Epoch 4/10\n",
      "135/135 [==============================] - 2057s 15s/step - loss: 0.2307 - accuracy: 0.9159\n",
      "Epoch 5/10\n",
      "135/135 [==============================] - 1289s 9s/step - loss: 0.1368 - accuracy: 0.9578\n",
      "Epoch 6/10\n",
      "135/135 [==============================] - 1560s 12s/step - loss: 0.0852 - accuracy: 0.9670\n",
      "Epoch 7/10\n",
      "135/135 [==============================] - 2725s 20s/step - loss: 0.0734 - accuracy: 0.9774\n",
      "Epoch 8/10\n",
      "135/135 [==============================] - 2592s 19s/step - loss: 0.0541 - accuracy: 0.9844\n",
      "Epoch 9/10\n",
      "135/135 [==============================] - 1900s 14s/step - loss: 0.0350 - accuracy: 0.9930\n",
      "Epoch 10/10\n",
      "135/135 [==============================] - 973s 7s/step - loss: 0.0217 - accuracy: 0.9933\n"
     ]
    },
    {
     "data": {
      "text/plain": [
       "<keras.callbacks.History at 0x1c07ead6730>"
      ]
     },
     "execution_count": 22,
     "metadata": {},
     "output_type": "execute_result"
    }
   ],
   "source": [
    "Model.fit(Train_Set,epochs=10)"
   ]
  }
 ],
 "metadata": {
  "kernelspec": {
   "display_name": "Python 3 (ipykernel)",
   "language": "python",
   "name": "python3"
  },
  "language_info": {
   "codemirror_mode": {
    "name": "ipython",
    "version": 3
   },
   "file_extension": ".py",
   "mimetype": "text/x-python",
   "name": "python",
   "nbconvert_exporter": "python",
   "pygments_lexer": "ipython3",
   "version": "3.8.0"
  }
 },
 "nbformat": 4,
 "nbformat_minor": 5
}
